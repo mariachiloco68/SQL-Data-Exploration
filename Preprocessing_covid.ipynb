{
 "cells": [
  {
   "cell_type": "code",
   "execution_count": 1,
   "id": "4b856d35-4e05-441b-8f9e-46ec213d86c1",
   "metadata": {},
   "outputs": [
    {
     "name": "stderr",
     "output_type": "stream",
     "text": [
      "Using Spark's default log4j profile: org/apache/spark/log4j-defaults.properties\n",
      "Setting default log level to \"WARN\".\n",
      "To adjust logging level use sc.setLogLevel(newLevel). For SparkR, use setLogLevel(newLevel).\n",
      "22/02/28 11:28:33 WARN NativeCodeLoader: Unable to load native-hadoop library for your platform... using builtin-java classes where applicable\n",
      "22/02/28 11:28:35 WARN Utils: Service 'SparkUI' could not bind on port 4040. Attempting port 4041.\n"
     ]
    }
   ],
   "source": [
    "from pyspark.sql import SparkSession\n",
    "spark = SparkSession.builder.appName('pyspark - example toPandas()').getOrCreate()"
   ]
  },
  {
   "cell_type": "code",
   "execution_count": 2,
   "id": "8de118ae-8851-4419-9d63-882a0f037d7f",
   "metadata": {},
   "outputs": [],
   "source": [
    "from pyspark.sql.functions import *"
   ]
  },
  {
   "cell_type": "code",
   "execution_count": 3,
   "id": "a052c567-8cbc-480e-a861-c010cb81c6a2",
   "metadata": {},
   "outputs": [
    {
     "name": "stderr",
     "output_type": "stream",
     "text": [
      "                                                                                \r"
     ]
    }
   ],
   "source": [
    "df = spark.read.option(\"header\", \"true\").csv('covid.csv')"
   ]
  },
  {
   "cell_type": "code",
   "execution_count": 4,
   "id": "7f290b57-7263-4a05-b6db-7b2b6b4dea12",
   "metadata": {},
   "outputs": [
    {
     "name": "stderr",
     "output_type": "stream",
     "text": [
      "                                                                                \r"
     ]
    },
    {
     "data": {
      "text/plain": [
       "164015"
      ]
     },
     "execution_count": 4,
     "metadata": {},
     "output_type": "execute_result"
    }
   ],
   "source": [
    "df.count()"
   ]
  },
  {
   "cell_type": "code",
   "execution_count": 5,
   "id": "c9d3acff-fc4a-459e-842d-a9ec613573ab",
   "metadata": {},
   "outputs": [
    {
     "data": {
      "text/plain": [
       "['iso_code',\n",
       " 'continent',\n",
       " 'location',\n",
       " 'date',\n",
       " 'total_cases',\n",
       " 'new_cases',\n",
       " 'new_cases_smoothed',\n",
       " 'total_deaths',\n",
       " 'new_deaths',\n",
       " 'new_deaths_smoothed',\n",
       " 'total_cases_per_million',\n",
       " 'new_cases_per_million',\n",
       " 'new_cases_smoothed_per_million',\n",
       " 'total_deaths_per_million',\n",
       " 'new_deaths_per_million',\n",
       " 'new_deaths_smoothed_per_million',\n",
       " 'reproduction_rate',\n",
       " 'icu_patients',\n",
       " 'icu_patients_per_million',\n",
       " 'hosp_patients',\n",
       " 'hosp_patients_per_million',\n",
       " 'weekly_icu_admissions',\n",
       " 'weekly_icu_admissions_per_million',\n",
       " 'weekly_hosp_admissions',\n",
       " 'weekly_hosp_admissions_per_million',\n",
       " 'new_tests',\n",
       " 'population',\n",
       " 'population_density']"
      ]
     },
     "execution_count": 5,
     "metadata": {},
     "output_type": "execute_result"
    }
   ],
   "source": [
    "df.columns"
   ]
  },
  {
   "cell_type": "code",
   "execution_count": 6,
   "id": "ced0a95e-aef6-4450-bc45-548a79fae96c",
   "metadata": {},
   "outputs": [
    {
     "data": {
      "text/plain": [
       "[('iso_code', 'string'),\n",
       " ('continent', 'string'),\n",
       " ('location', 'string'),\n",
       " ('date', 'string'),\n",
       " ('total_cases', 'string'),\n",
       " ('new_cases', 'string'),\n",
       " ('new_cases_smoothed', 'string'),\n",
       " ('total_deaths', 'string'),\n",
       " ('new_deaths', 'string'),\n",
       " ('new_deaths_smoothed', 'string'),\n",
       " ('total_cases_per_million', 'string'),\n",
       " ('new_cases_per_million', 'string'),\n",
       " ('new_cases_smoothed_per_million', 'string'),\n",
       " ('total_deaths_per_million', 'string'),\n",
       " ('new_deaths_per_million', 'string'),\n",
       " ('new_deaths_smoothed_per_million', 'string'),\n",
       " ('reproduction_rate', 'string'),\n",
       " ('icu_patients', 'string'),\n",
       " ('icu_patients_per_million', 'string'),\n",
       " ('hosp_patients', 'string'),\n",
       " ('hosp_patients_per_million', 'string'),\n",
       " ('weekly_icu_admissions', 'string'),\n",
       " ('weekly_icu_admissions_per_million', 'string'),\n",
       " ('weekly_hosp_admissions', 'string'),\n",
       " ('weekly_hosp_admissions_per_million', 'string'),\n",
       " ('new_tests', 'string'),\n",
       " ('population', 'string'),\n",
       " ('population_density', 'string')]"
      ]
     },
     "execution_count": 6,
     "metadata": {},
     "output_type": "execute_result"
    }
   ],
   "source": [
    "df.dtypes"
   ]
  },
  {
   "cell_type": "code",
   "execution_count": 7,
   "id": "91282321-e1dc-49e2-829b-13234757f93a",
   "metadata": {},
   "outputs": [
    {
     "name": "stdout",
     "output_type": "stream",
     "text": [
      "+---------+\n",
      "|     date|\n",
      "+---------+\n",
      "|2/24/2020|\n",
      "|2/25/2020|\n",
      "|2/26/2020|\n",
      "|2/27/2020|\n",
      "|2/28/2020|\n",
      "+---------+\n",
      "only showing top 5 rows\n",
      "\n"
     ]
    }
   ],
   "source": [
    "df.select(col('date')).show(5)"
   ]
  },
  {
   "cell_type": "code",
   "execution_count": 8,
   "id": "485d9049-6623-41c5-a7b6-82b24f219864",
   "metadata": {},
   "outputs": [],
   "source": [
    "df = df.withColumn('date',when(df.date.like(\"_/__/____\"),concat(lit(\"0\"),df.date))\n",
    "          .when(df.date.like(\"_/_/____\"),concat(lit(\"0\"),df.date.substr(1,2),lit(\"0\"),df.date.substr(3,1),df.date.substr(4,5)))\n",
    "          .when(df.date.like(\"__/_/____\"),concat(df.date.substr(1,3),lit(\"0\"),df.date.substr(4,1),df.date.substr(5,5)))\n",
    "          .otherwise(df.date))"
   ]
  },
  {
   "cell_type": "code",
   "execution_count": 9,
   "id": "93d940e0-d974-4d3b-b058-95ebcecab24b",
   "metadata": {},
   "outputs": [],
   "source": [
    "from pyspark.sql.functions import regexp_replace\n",
    "df = df.withColumn('date', regexp_replace('date', '/', '-')) \\\n",
    "#.show(truncate=False)"
   ]
  },
  {
   "cell_type": "code",
   "execution_count": 10,
   "id": "0d7dad74-23c4-4022-9b36-2d63eb3dcc48",
   "metadata": {},
   "outputs": [
    {
     "name": "stderr",
     "output_type": "stream",
     "text": [
      "22/02/28 11:29:26 WARN package: Truncated the string representation of a plan since it was too large. This behavior can be adjusted by setting 'spark.sql.debug.maxToStringFields'.\n"
     ]
    },
    {
     "name": "stdout",
     "output_type": "stream",
     "text": [
      "+--------+---------+-----------+----------+-----------+---------+------------------+------------+----------+-------------------+-----------------------+---------------------+------------------------------+------------------------+----------------------+-------------------------------+-----------------+------------+------------------------+-------------+-------------------------+---------------------+---------------------------------+----------------------+----------------------------------+---------+----------+------------------+\n",
      "|iso_code|continent|   location|      date|total_cases|new_cases|new_cases_smoothed|total_deaths|new_deaths|new_deaths_smoothed|total_cases_per_million|new_cases_per_million|new_cases_smoothed_per_million|total_deaths_per_million|new_deaths_per_million|new_deaths_smoothed_per_million|reproduction_rate|icu_patients|icu_patients_per_million|hosp_patients|hosp_patients_per_million|weekly_icu_admissions|weekly_icu_admissions_per_million|weekly_hosp_admissions|weekly_hosp_admissions_per_million|new_tests|population|population_density|\n",
      "+--------+---------+-----------+----------+-----------+---------+------------------+------------+----------+-------------------+-----------------------+---------------------+------------------------------+------------------------+----------------------+-------------------------------+-----------------+------------+------------------------+-------------+-------------------------+---------------------+---------------------------------+----------------------+----------------------------------+---------+----------+------------------+\n",
      "|     AFG|     Asia|Afghanistan|02-24-2020|          5|        5|              null|        null|      null|               null|                  0.126|                0.126|                          null|                    null|                  null|                           null|             null|        null|                    null|         null|                     null|                 null|                             null|                  null|                              null|     null|  39835428|            54.422|\n",
      "|     AFG|     Asia|Afghanistan|02-25-2020|          5|        0|              null|        null|      null|               null|                  0.126|                    0|                          null|                    null|                  null|                           null|             null|        null|                    null|         null|                     null|                 null|                             null|                  null|                              null|     null|  39835428|            54.422|\n",
      "|     AFG|     Asia|Afghanistan|02-26-2020|          5|        0|              null|        null|      null|               null|                  0.126|                    0|                          null|                    null|                  null|                           null|             null|        null|                    null|         null|                     null|                 null|                             null|                  null|                              null|     null|  39835428|            54.422|\n",
      "|     AFG|     Asia|Afghanistan|02-27-2020|          5|        0|              null|        null|      null|               null|                  0.126|                    0|                          null|                    null|                  null|                           null|             null|        null|                    null|         null|                     null|                 null|                             null|                  null|                              null|     null|  39835428|            54.422|\n",
      "|     AFG|     Asia|Afghanistan|02-28-2020|          5|        0|              null|        null|      null|               null|                  0.126|                    0|                          null|                    null|                  null|                           null|             null|        null|                    null|         null|                     null|                 null|                             null|                  null|                              null|     null|  39835428|            54.422|\n",
      "+--------+---------+-----------+----------+-----------+---------+------------------+------------+----------+-------------------+-----------------------+---------------------+------------------------------+------------------------+----------------------+-------------------------------+-----------------+------------+------------------------+-------------+-------------------------+---------------------+---------------------------------+----------------------+----------------------------------+---------+----------+------------------+\n",
      "only showing top 5 rows\n",
      "\n"
     ]
    }
   ],
   "source": [
    "df.show(5)"
   ]
  },
  {
   "cell_type": "code",
   "execution_count": 11,
   "id": "65fe09cf-f3b5-46dc-b49e-22b56bf106a1",
   "metadata": {},
   "outputs": [],
   "source": [
    "df = df.withColumn((\"date\"),to_date(col(\"date\"),\"MM-dd-yyyy\"))"
   ]
  },
  {
   "cell_type": "code",
   "execution_count": 13,
   "id": "57cc6aa0-3749-4c76-ab1f-6845d6457748",
   "metadata": {},
   "outputs": [
    {
     "name": "stderr",
     "output_type": "stream",
     "text": [
      "                                                                                \r"
     ]
    }
   ],
   "source": [
    "df.toPandas().to_csv(\"./Clean Data/covid.csv\",index = False)"
   ]
  }
 ],
 "metadata": {
  "kernelspec": {
   "display_name": "Python 3 (ipykernel)",
   "language": "python",
   "name": "python3"
  },
  "language_info": {
   "codemirror_mode": {
    "name": "ipython",
    "version": 3
   },
   "file_extension": ".py",
   "mimetype": "text/x-python",
   "name": "python",
   "nbconvert_exporter": "python",
   "pygments_lexer": "ipython3",
   "version": "3.9.7"
  }
 },
 "nbformat": 4,
 "nbformat_minor": 5
}
